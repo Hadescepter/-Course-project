{
 "cells": [
  {
   "cell_type": "code",
   "execution_count": 3,
   "metadata": {},
   "outputs": [],
   "source": [
    "import numpy as np\n",
    "import pandas as pd\n",
    "from scipy.linalg import eig"
   ]
  },
  {
   "cell_type": "code",
   "execution_count": 2,
   "metadata": {},
   "outputs": [],
   "source": [
    "B=np.array([[2,2,4],[1,4,7],[2,5,4]])"
   ]
  },
  {
   "cell_type": "code",
   "execution_count": 4,
   "metadata": {},
   "outputs": [],
   "source": [
    "evals, evacs=eig(B)"
   ]
  },
  {
   "cell_type": "code",
   "execution_count": 8,
   "metadata": {},
   "outputs": [
    {
     "name": "stdout",
     "output_type": "stream",
     "text": [
      "[10.93777843+0.j  1.25234419+0.j -2.19012261+0.j] \n",
      " [[-0.42228933 -0.92515036 -0.29500861]\n",
      " [-0.67326244  0.37923364 -0.69446846]\n",
      " [-0.6069509  -0.01669331  0.65626479]]\n"
     ]
    }
   ],
   "source": [
    "print(evals,\"\\n\",evacs)"
   ]
  },
  {
   "cell_type": "code",
   "execution_count": 9,
   "metadata": {},
   "outputs": [],
   "source": [
    "evacs_reverse=np.linalg.inv(evacs)"
   ]
  },
  {
   "cell_type": "code",
   "execution_count": 10,
   "metadata": {},
   "outputs": [
    {
     "name": "stdout",
     "output_type": "stream",
     "text": [
      "[[-0.24458613 -0.63090205 -0.77757728]\n",
      " [-0.88991249  0.47022663  0.09756081]\n",
      " [-0.24884369 -0.57153292  0.80710925]]\n"
     ]
    }
   ],
   "source": [
    "print(evacs_reverse)"
   ]
  },
  {
   "cell_type": "code",
   "execution_count": 11,
   "metadata": {},
   "outputs": [],
   "source": [
    "D=[[evals[0],0,0],[0,evals[1],0],[0,0,evals[2]]]"
   ]
  },
  {
   "cell_type": "code",
   "execution_count": 24,
   "metadata": {},
   "outputs": [
    {
     "data": {
      "text/plain": [
       "[[(10.937778429571388+0j), 0, 0],\n",
       " [0, (1.2523441851514185+0j), 0],\n",
       " [0, 0, (-2.1901226147228083+0j)]]"
      ]
     },
     "execution_count": 24,
     "metadata": {},
     "output_type": "execute_result"
    }
   ],
   "source": [
    "D"
   ]
  },
  {
   "cell_type": "code",
   "execution_count": 13,
   "metadata": {},
   "outputs": [],
   "source": [
    "C=evacs@D@evacs_reverse"
   ]
  },
  {
   "cell_type": "code",
   "execution_count": 18,
   "metadata": {},
   "outputs": [
    {
     "name": "stderr",
     "output_type": "stream",
     "text": [
      "C:\\Users\\Y7000P\\AppData\\Local\\Temp\\ipykernel_21556\\2108815929.py:1: ComplexWarning: Casting complex values to real discards the imaginary part\n",
      "  C.astype(float)\n"
     ]
    },
    {
     "data": {
      "text/plain": [
       "array([[2., 2., 4.],\n",
       "       [1., 4., 7.],\n",
       "       [2., 5., 4.]])"
      ]
     },
     "execution_count": 18,
     "metadata": {},
     "output_type": "execute_result"
    }
   ],
   "source": [
    "C.astype(float)"
   ]
  }
 ],
 "metadata": {
  "kernelspec": {
   "display_name": "pytorch",
   "language": "python",
   "name": "python3"
  },
  "language_info": {
   "codemirror_mode": {
    "name": "ipython",
    "version": 3
   },
   "file_extension": ".py",
   "mimetype": "text/x-python",
   "name": "python",
   "nbconvert_exporter": "python",
   "pygments_lexer": "ipython3",
   "version": "3.8.19"
  }
 },
 "nbformat": 4,
 "nbformat_minor": 2
}
